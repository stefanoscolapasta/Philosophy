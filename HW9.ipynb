{
  "nbformat": 4,
  "nbformat_minor": 0,
  "metadata": {
    "colab": {
      "provenance": [],
      "authorship_tag": "ABX9TyPooeVHmktHHu7KLNlQWSYZ",
      "include_colab_link": true
    },
    "kernelspec": {
      "name": "python3",
      "display_name": "Python 3"
    },
    "language_info": {
      "name": "python"
    }
  },
  "cells": [
    {
      "cell_type": "markdown",
      "metadata": {
        "id": "view-in-github",
        "colab_type": "text"
      },
      "source": [
        "<a href=\"https://colab.research.google.com/github/stefanoscolapasta/Philosophy/blob/main/HW9.ipynb\" target=\"_parent\"><img src=\"https://colab.research.google.com/assets/colab-badge.svg\" alt=\"Open In Colab\"/></a>"
      ]
    },
    {
      "cell_type": "markdown",
      "source": [
        "**a)** After a bit of reasoning I feel like I would be willing to pay around 50 SEK to enter such game. This because I would have a $\\frac{1}{16}$ probability, so a *6.25%* to win more than the bet. Also, 50 SEK does not feel like a great amount of money, so I would be willing to put such amount on the stake. Anything above 100 SEK feels way too much for me."
      ],
      "metadata": {
        "id": "0R5iBZT_oS2N"
      }
    },
    {
      "cell_type": "markdown",
      "source": [
        "**b)** An unrealistic assumption is that the casino has an infinite amount of money, which clearly is not true. So the expected value cannot be infinite.\n",
        "Another unrealistic assumptions could be that the player will not become bored of the game after a certain amount of time. Additionally, it is assumed that the player will be able to continue playing the game indefinitely, which may not be realistic in the long run."
      ],
      "metadata": {
        "id": "u526L6rIrkBB"
      }
    },
    {
      "cell_type": "markdown",
      "source": [
        "**c)** As suggested by the problem description, I chose a maximum payout of 10 million SEK. At each game the initial payoff value is set to 10 SEK"
      ],
      "metadata": {
        "id": "s3wbzIsjvl6t"
      }
    },
    {
      "cell_type": "code",
      "source": [
        "import statistics, numpy\n",
        "\n",
        "def petersburg_finite(casinoLimit):\n",
        "  payoff = 10\n",
        "  while numpy.random.uniform() > 0.5:\n",
        "    payoff *= 2\n",
        "    if payoff > casinoLimit:\n",
        "      return casinoLimit\n",
        "  return payoff\n",
        "\n",
        "def simulation(casinoLimit, numberOfGames):\n",
        "    payoffs = numpy.zeros(numberOfGames)\n",
        "    for i in range(numberOfGames):\n",
        "      payoffs[i] = petersburg_finite(casinoLimit)\n",
        "    means = numpy.zeros(numberOfGames)\n",
        "    #Here calculating average payoff calculated over the last i games as a function of i\n",
        "    for i in range(len(payoffs)):\n",
        "      means[i] = (float(numpy.sum(payoffs[:i+1]))/(i+1))\n",
        "    return means, payoffs"
      ],
      "metadata": {
        "id": "dbABoW3wxKGH"
      },
      "execution_count": 206,
      "outputs": []
    },
    {
      "cell_type": "markdown",
      "source": [
        "We will now launch the simulation with a limit of 10 million SEK and attempt to play 100'000 games (Trying with 1'000'000 games results in an extremelly long time to compute the result). With 100'000 games it takes around 3/4 seconds to compute the whole simulation."
      ],
      "metadata": {
        "id": "MpI91ntBzBZ2"
      }
    },
    {
      "cell_type": "code",
      "source": [
        "casinoPayoutLimit = 10_000_000\n",
        "totalNumberOfGames = 100_000\n",
        "averages, games = simulation(casinoPayoutLimit,totalNumberOfGames)"
      ],
      "metadata": {
        "id": "hKzIWf9jzXNq"
      },
      "execution_count": 240,
      "outputs": []
    },
    {
      "cell_type": "markdown",
      "source": [
        "If we then decide to plot such data"
      ],
      "metadata": {
        "id": "CbXCueu1zlP5"
      }
    },
    {
      "cell_type": "code",
      "source": [
        "import matplotlib.pyplot as plt\n",
        "plt.plot(averages)\n",
        "plt.title(\"Expected winnings from the St Petersburg game\", weight=\"bold\")\n",
        "plt.xlabel(\"number of games played\")\n",
        "plt.ylabel(\"AVG payoff for previous games (SEK)\")\n",
        "plt.show();"
      ],
      "metadata": {
        "colab": {
          "base_uri": "https://localhost:8080/",
          "height": 295
        },
        "id": "d1McaLUqznrx",
        "outputId": "23e9afbd-bfe5-4072-b31f-7abfaae0b161"
      },
      "execution_count": 241,
      "outputs": [
        {
          "output_type": "display_data",
          "data": {
            "text/plain": [
              "<Figure size 432x288 with 1 Axes>"
            ],
            "image/png": "[encoded data removed]"
          },
          "metadata": {
            "needs_background": "light"
          }
        }
      ]
    },
    {
      "cell_type": "markdown",
      "source": [
        "Here instead we plot the payoff from each game played. Plotly might express the result on the y-axis in terms of 1 * 10^6"
      ],
      "metadata": {
        "id": "CR0ZIaqdMFxv"
      }
    },
    {
      "cell_type": "code",
      "source": [
        "plt.plot(games)\n",
        "plt.hist(numpy.log(games), alpha=0.9, density=True)\n",
        "plt.xlabel(\"game\")\n",
        "plt.ylabel(\"payoff\")\n",
        "plt.show();"
      ],
      "metadata": {
        "colab": {
          "base_uri": "https://localhost:8080/",
          "height": 290
        },
        "id": "3aAon48IHkXf",
        "outputId": "291f323d-57f6-427f-db4c-f5fb57b7abf4"
      },
      "execution_count": 242,
      "outputs": [
        {
          "output_type": "display_data",
          "data": {
            "text/plain": [
              "<Figure size 432x288 with 1 Axes>"
            ],
            "image/png": "[encoded data removed]"
          },
          "metadata": {
            "needs_background": "light"
          }
        }
      ]
    },
    {
      "cell_type": "markdown",
      "source": [
        "The following code shows some more insights about the simulation."
      ],
      "metadata": {
        "id": "lq-ZNOqEIX2p"
      }
    },
    {
      "cell_type": "code",
      "source": [
        "avereagePayoff = games.mean()\n",
        "bestPayoff = games.max()\n",
        "sekToEurConv = 0.092\n",
        "print(\"Average payoff out of all games: \" + str(avereagePayoff) + \" SEK -> \" + str(int(avereagePayoff*sekToEurConv)) + \" €\")\n",
        "print(\"Best payoff ever won out of all games: \" + str(bestPayoff) + \" SEK -> \" + str(int(bestPayoff*sekToEurConv)) + \" €\")\n"
      ],
      "metadata": {
        "colab": {
          "base_uri": "https://localhost:8080/"
        },
        "id": "GSxDHhHoIfpc",
        "outputId": "724c71e6-1e7b-4457-b927-b55a12477dff"
      },
      "execution_count": 243,
      "outputs": [
        {
          "output_type": "stream",
          "name": "stdout",
          "text": [
            "Average payoff out of all games: 118.9557 SEK -> 10 €\n",
            "Best payoff ever won out of all games: 2621440.0 SEK -> 241172 €\n"
          ]
        }
      ]
    },
    {
      "cell_type": "markdown",
      "source": [
        "**d)** After running the simulation a certain amount of times, I noticed that it tends to converge at values between 80 SEK and 140 SEK."
      ],
      "metadata": {
        "id": "DZdLFifGVN4x"
      }
    }
  ]
}